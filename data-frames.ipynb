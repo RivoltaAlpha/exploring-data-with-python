{
 "cells": [
  {
   "cell_type": "markdown",
   "id": "dd8aa6ea",
   "metadata": {},
   "source": [
    "Creating a Pandas DataFrame\n"
   ]
  },
  {
   "cell_type": "code",
   "execution_count": null,
   "id": "initial_id",
   "metadata": {
    "ExecuteTime": {
     "end_time": "2024-06-09T21:30:16.042240Z",
     "start_time": "2024-06-09T21:30:14.600212Z"
    },
    "collapsed": true
   },
   "outputs": [],
   "source": [
    "import pandas as pd\n",
    "\n",
    "# Create an empty DataFrame using pandas\n",
    "df = pd.DataFrame()\n",
    "\n",
    "# Print the empty DataFrame to the console\n",
    "print(df)"
   ]
  },
  {
   "cell_type": "code",
   "execution_count": null,
   "id": "d1c97a92",
   "metadata": {},
   "outputs": [],
   "source": [
    "import pandas as pd\n",
    "\n",
    "df = pd.DataFrame(columns=['name', 'age', 'country'])\n",
    "print(df)"
   ]
  },
  {
   "cell_type": "markdown",
   "id": "e8bc2dd3",
   "metadata": {},
   "source": [
    "Working with DataFrames"
   ]
  },
  {
   "cell_type": "code",
   "execution_count": null,
   "id": "8d7da55251aeb7f6",
   "metadata": {
    "ExecuteTime": {
     "end_time": "2024-06-12T18:30:28.448085Z",
     "start_time": "2024-06-12T18:30:28.434674Z"
    }
   },
   "outputs": [],
   "source": [
    "import pandas as pd\n",
    "\n",
    "data = {'Name': ['John', 'Alice', 'Bob'],\n",
    "        'Age': [25, 30, 35],\n",
    "        'City': ['New York', 'Los Angeles', 'Chicago']}\n",
    "df = pd.DataFrame(data)\n",
    "print(df)\n",
    "\n",
    "# # Viewing the first few rows of the DataFrame\n",
    "# print(df.head())\n",
    "# \n",
    "# # Displaying basic information about the DataFrame\n",
    "# print(df.info())\n",
    "# \n",
    "# # Displaying descriptive statistics of the DataFrame\n",
    "# print(df.describe())\n"
   ]
  },
  {
   "cell_type": "markdown",
   "id": "ddfcc60e",
   "metadata": {},
   "source": [
    "Creating dataframe from lists"
   ]
  },
  {
   "cell_type": "code",
   "execution_count": null,
   "id": "28f503eca96209b3",
   "metadata": {
    "ExecuteTime": {
     "end_time": "2024-06-09T21:30:50.489993Z",
     "start_time": "2024-06-09T21:30:50.458918Z"
    }
   },
   "outputs": [],
   "source": [
    "import pandas as pd\n",
    "\n",
    "# List of lists\n",
    "data = [['a1', 'b1', 'c1'],\n",
    "        ['a2', 'b2', 'c2'],\n",
    "        ['a3', 'b3', 'c3']]\n",
    "\n",
    "df = pd.DataFrame(data)\n",
    "print(df)"
   ]
  },
  {
   "cell_type": "code",
   "execution_count": null,
   "id": "4be30aab81b5e89",
   "metadata": {
    "ExecuteTime": {
     "end_time": "2024-06-09T21:31:26.327758Z",
     "start_time": "2024-06-09T21:31:26.300340Z"
    }
   },
   "outputs": [],
   "source": [
    "import pandas as pd\n",
    "\n",
    "# List of lists\n",
    "data = {'col1': ['a1', 'a2', 'a3'],\n",
    "        'col2': ['b1', 'b2', 'b3'],\n",
    "        'col3': ['c1', 'c2', 'c3']}\n",
    "\n",
    "df = pd.DataFrame(data)\n",
    "print(df)"
   ]
  },
  {
   "cell_type": "markdown",
   "id": "4e8fd76f",
   "metadata": {},
   "source": [
    "Creating dataframes from Dictionaries\n"
   ]
  },
  {
   "cell_type": "code",
   "execution_count": null,
   "id": "c58bca41dd431276",
   "metadata": {
    "ExecuteTime": {
     "end_time": "2024-06-09T21:34:10.351946Z",
     "start_time": "2024-06-09T21:34:10.329045Z"
    }
   },
   "outputs": [],
   "source": [
    "import pandas as pd\n",
    "\n",
    "mydictionary = {'names': ['Somu', 'Kiku', 'Amol', 'Lini'],\n",
    "\t'physics': [68, 74, 77, 78],\n",
    "\t'chemistry': [84, 56, 73, 69],\n",
    "\t'algebra': [78, 88, 82, 87]}\n",
    "\n",
    "# Create dataframe using dictionary\n",
    "df_marks = pd.DataFrame(mydictionary)\n",
    "\n",
    "print(df_marks)"
   ]
  },
  {
   "cell_type": "markdown",
   "id": "80badea4",
   "metadata": {},
   "source": [
    "Creating a dataframe from Numpy Array"
   ]
  },
  {
   "cell_type": "code",
   "execution_count": null,
   "id": "4d85dd9054e04c0d",
   "metadata": {
    "ExecuteTime": {
     "end_time": "2024-06-09T21:36:24.323284Z",
     "start_time": "2024-06-09T21:36:24.307274Z"
    }
   },
   "outputs": [],
   "source": [
    "import pandas as pd\n",
    "import numpy as np\n",
    "\n",
    "array = np.array([['a1', 'b1', 'c1'],\n",
    "                  ['a2', 'b2', 'c2'],\n",
    "                  ['a3', 'b3', 'c3']])\n",
    "df = pd.DataFrame(array)\n",
    "print(df)"
   ]
  },
  {
   "cell_type": "code",
   "execution_count": null,
   "id": "779cbfca1e849c77",
   "metadata": {},
   "outputs": [],
   "source": [
    "# DataFrame from Numpy Array, along with column names and index\n",
    "import pandas as pd\n",
    "import numpy as np\n",
    "\n",
    "array = np.array([['a1', 'b1', 'c1'],\n",
    "                  ['a2', 'b2', 'c2'],\n",
    "                  ['a3', 'b3', 'c3']])\n",
    "\n",
    "columns = ['aN', 'bN', 'cN']\n",
    "index = [1, 2, 3]\n",
    "\n",
    "df = pd.DataFrame(array, index, columns)\n",
    "print(df)"
   ]
  }
 ],
 "metadata": {
  "kernelspec": {
   "display_name": "Python 3",
   "language": "python",
   "name": "python3"
  },
  "language_info": {
   "codemirror_mode": {
    "name": "ipython",
    "version": 3
   },
   "file_extension": ".py",
   "mimetype": "text/x-python",
   "name": "python",
   "nbconvert_exporter": "python",
   "pygments_lexer": "ipython3",
   "version": "3.12.1"
  }
 },
 "nbformat": 4,
 "nbformat_minor": 5
}
