{
 "cells": [
  {
   "cell_type": "markdown",
   "id": "82661fdc",
   "metadata": {},
   "source": [
    "Data Loading"
   ]
  },
  {
   "cell_type": "code",
   "execution_count": null,
   "id": "initial_id",
   "metadata": {
    "ExecuteTime": {
     "end_time": "2024-06-09T20:49:14.314229Z",
     "start_time": "2024-06-09T20:49:14.290455Z"
    },
    "collapsed": true
   },
   "outputs": [],
   "source": [
    "import csv\n",
    "\n",
    "df = open(\"Iconic_Songs_Dataset.csv\")\n",
    "csvreader = csv.reader(df)\n",
    "header = next(csvreader)\n",
    "print(header)"
   ]
  },
  {
   "cell_type": "code",
   "execution_count": null,
   "id": "3f645bc6394af885",
   "metadata": {
    "ExecuteTime": {
     "end_time": "2024-06-09T20:11:58.293403Z",
     "start_time": "2024-06-09T20:11:58.243123Z"
    }
   },
   "outputs": [],
   "source": [
    "import pandas as pd\n",
    "\n",
    "# load data from a CSV file\n",
    "df = pd.read_csv('Iconic_Songs_Dataset.csv')\n",
    "df.describe()"
   ]
  },
  {
   "cell_type": "code",
   "execution_count": null,
   "id": "6be1b624af9f1abd",
   "metadata": {
    "ExecuteTime": {
     "end_time": "2024-06-09T20:15:04.833791Z",
     "start_time": "2024-06-09T20:15:04.815704Z"
    }
   },
   "outputs": [],
   "source": [
    "df = pd.read_csv('Iconic_Songs_Dataset.csv')\n",
    "df.isnull().sum()"
   ]
  },
  {
   "cell_type": "markdown",
   "id": "c98cf21d",
   "metadata": {},
   "source": [
    "Plotting"
   ]
  },
  {
   "cell_type": "code",
   "execution_count": null,
   "id": "6905ff34c96f0ced",
   "metadata": {
    "ExecuteTime": {
     "end_time": "2024-06-09T20:25:49.311199Z",
     "start_time": "2024-06-09T20:25:48.768245Z"
    }
   },
   "outputs": [],
   "source": [
    "import matplotlib.pyplot as plt\n",
    "\n",
    "genre_popularity = df.groupby('Genre')['Popularity'].mean()\n",
    "# Bar plot: Average popularity by genre\n",
    "genre_popularity.plot(kind='bar')\n",
    "plt.ylabel(' Popularity')\n",
    "plt.title(' Popularity by Genre')\n",
    "plt.show()\n",
    "\n",
    "# Pie chart: Genre distribution\n",
    "genre_distribution = df['Genre'].value_counts()\n",
    "genre_distribution.plot(kind='pie', autopct='%1.1f%%')\n",
    "plt.title('Genre Distribution')\n",
    "plt.show()\n"
   ]
  },
  {
   "cell_type": "code",
   "execution_count": null,
   "id": "7cbbc88bfa1ec7df",
   "metadata": {
    "ExecuteTime": {
     "end_time": "2024-06-09T20:27:56.015808Z",
     "start_time": "2024-06-09T20:27:55.991828Z"
    }
   },
   "outputs": [],
   "source": [
    "# Top 10 songs by popularity\n",
    "top_10_songs = df.nlargest(10, 'Popularity')\n",
    "print(top_10_songs)\n",
    "\n",
    "# Filter songs released in 2024\n",
    "songs_2024 = df[df['ReleaseDate'] == 2024]\n",
    "print(songs_2024)\n",
    "\n",
    "# Filter songs by genre 'Pop'\n",
    "pop_songs = df[df['Genre'] == 'K-Pop']\n",
    "print(pop_songs)\n",
    "\n"
   ]
  },
  {
   "cell_type": "code",
   "execution_count": null,
   "id": "86fe5e1c0103c7a7",
   "metadata": {
    "ExecuteTime": {
     "end_time": "2024-06-09T20:48:43.850108Z",
     "start_time": "2024-06-09T20:48:43.199094Z"
    }
   },
   "outputs": [],
   "source": [
    "# Trend of song releases over time\n",
    "release_trend = df['ReleaseDate'].value_counts().sort_index()\n",
    "release_trend.plot(kind='line')\n",
    "plt.xlabel('Year')\n",
    "plt.ylabel('Number of Releases')\n",
    "plt.title('Trend of Song Releases Over Time')\n",
    "plt.show()\n",
    "\n",
    "# Trend of average popularity over time\n",
    "popularity_trend = df.groupby('ReleaseDate')['Popularity'].mean()\n",
    "popularity_trend.plot(kind='line')\n",
    "plt.xlabel('Year')\n",
    "plt.ylabel('Average Popularity')\n",
    "plt.title('Trend of Average Popularity Over Time')\n",
    "plt.show()\n"
   ]
  },
  {
   "cell_type": "code",
   "execution_count": null,
   "id": "dce6937cb52c26cf",
   "metadata": {},
   "outputs": [],
   "source": [
    "data frame functions used to maniputlate data eg: groupby,value_counts,sort_index,plot,mean,nlargest\n",
    "\n",
    "and what is autopct"
   ]
  }
 ],
 "metadata": {
  "kernelspec": {
   "display_name": "Python 3",
   "language": "python",
   "name": "python3"
  },
  "language_info": {
   "codemirror_mode": {
    "name": "ipython",
    "version": 3
   },
   "file_extension": ".py",
   "mimetype": "text/x-python",
   "name": "python",
   "nbconvert_exporter": "python",
   "pygments_lexer": "ipython3",
   "version": "3.12.3"
  }
 },
 "nbformat": 4,
 "nbformat_minor": 5
}
