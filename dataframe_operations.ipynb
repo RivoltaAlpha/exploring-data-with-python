{
 "cells": [
  {
   "cell_type": "markdown",
   "id": "3988a27b",
   "metadata": {},
   "source": [
    "Create a 2D array (an array of arrays)\n"
   ]
  },
  {
   "cell_type": "code",
   "execution_count": null,
   "id": "56f28bad54a4a11",
   "metadata": {
    "ExecuteTime": {
     "end_time": "2024-06-09T18:27:03.030498Z",
     "start_time": "2024-06-09T18:27:03.007069Z"
    }
   },
   "outputs": [],
   "source": [
    "# Define arrays \n",
    "import numpy as np\n",
    "\n",
    "data = [50,50,47,97,49,3,53,42,26,74,82,62,37,15,70,27,36,35,48,52,63,64]\n",
    "grades = np.array(data)\n",
    "\n",
    "study_hours = [10.0,11.5,9.0,16.0,9.25,1.0,11.5,9.0,8.5,14.5,15.5,\n",
    "               13.75,9.0,8.0,15.5,8.0,9.0,6.0,10.0,12.0,12.5,12.0]\n",
    "\n",
    "student_data = np.array([study_hours, grades])\n",
    "\n",
    "student_data"
   ]
  },
  {
   "cell_type": "markdown",
   "id": "ed3fc732",
   "metadata": {},
   "source": [
    "Creating a DataFrame "
   ]
  },
  {
   "cell_type": "code",
   "execution_count": null,
   "id": "c04304d97802e769",
   "metadata": {
    "ExecuteTime": {
     "end_time": "2024-06-09T18:27:53.047216Z",
     "start_time": "2024-06-09T18:27:53.006664Z"
    }
   },
   "outputs": [],
   "source": [
    "import pandas as pd\n",
    "\n",
    "df_students = pd.DataFrame({'Name': ['Dan', 'Joann', 'Pedro', 'Rosie', 'Ethan', 'Vicky', 'Frederic', 'Jimmie', \n",
    "                                     'Rhonda', 'Giovanni', 'Francesca', 'Rajab', 'Naiyana', 'Kian', 'Jenny',\n",
    "                                     'Jakeem','Helena','Ismat','Anila','Skye','Daniel','Aisha'],\n",
    "                            'StudyHours':student_data[0],\n",
    "                            'Grade':student_data[1]})\n",
    "\n",
    "df_students "
   ]
  },
  {
   "cell_type": "markdown",
   "id": "6d25e33d",
   "metadata": {},
   "source": [
    "The .loc function in pandas is used to access a group of rows and columns by labels or a boolean array. It allows for label-based indexing and slicing of data within a DataFrame.\n",
    "\n",
    "DataFrame.loc[row_label, column_label]\n"
   ]
  },
  {
   "cell_type": "code",
   "execution_count": null,
   "id": "cfa2eb7ed0825c63",
   "metadata": {
    "ExecuteTime": {
     "end_time": "2024-06-09T18:30:02.201236Z",
     "start_time": "2024-06-09T18:30:02.188248Z"
    }
   },
   "outputs": [],
   "source": [
    "# Get the data for index value 5\n",
    "df_students.loc[5]"
   ]
  },
  {
   "cell_type": "code",
   "execution_count": null,
   "id": "fd29200521a97d47",
   "metadata": {
    "ExecuteTime": {
     "end_time": "2024-06-09T20:04:09.462887Z",
     "start_time": "2024-06-09T20:04:09.430513Z"
    }
   },
   "outputs": [],
   "source": [
    "# Get the rows with index values from 0 to 5\n",
    "# here you find rows based on the index\n",
    "df_students.loc[0:20]"
   ]
  },
  {
   "cell_type": "markdown",
   "id": "2d0fa2d5",
   "metadata": {},
   "source": [
    "The .iloc function in pandas is used for integer-location based indexing. Unlike .loc, which accesses rows and columns by their labels, .iloc works with the numerical positions (or indices) of the rows and columns. "
   ]
  },
  {
   "cell_type": "code",
   "execution_count": 6,
   "id": "ba39628a59b8cd46",
   "metadata": {
    "ExecuteTime": {
     "end_time": "2024-06-09T18:31:50.920814Z",
     "start_time": "2024-06-09T18:31:50.903120Z"
    }
   },
   "outputs": [
    {
     "data": {
      "text/html": [
       "<div>\n",
       "<style scoped>\n",
       "    .dataframe tbody tr th:only-of-type {\n",
       "        vertical-align: middle;\n",
       "    }\n",
       "\n",
       "    .dataframe tbody tr th {\n",
       "        vertical-align: top;\n",
       "    }\n",
       "\n",
       "    .dataframe thead th {\n",
       "        text-align: right;\n",
       "    }\n",
       "</style>\n",
       "<table border=\"1\" class=\"dataframe\">\n",
       "  <thead>\n",
       "    <tr style=\"text-align: right;\">\n",
       "      <th></th>\n",
       "      <th>Name</th>\n",
       "      <th>StudyHours</th>\n",
       "      <th>Grade</th>\n",
       "    </tr>\n",
       "  </thead>\n",
       "  <tbody>\n",
       "    <tr>\n",
       "      <th>0</th>\n",
       "      <td>Dan</td>\n",
       "      <td>10.00</td>\n",
       "      <td>50.0</td>\n",
       "    </tr>\n",
       "    <tr>\n",
       "      <th>1</th>\n",
       "      <td>Joann</td>\n",
       "      <td>11.50</td>\n",
       "      <td>50.0</td>\n",
       "    </tr>\n",
       "    <tr>\n",
       "      <th>2</th>\n",
       "      <td>Pedro</td>\n",
       "      <td>9.00</td>\n",
       "      <td>47.0</td>\n",
       "    </tr>\n",
       "    <tr>\n",
       "      <th>3</th>\n",
       "      <td>Rosie</td>\n",
       "      <td>16.00</td>\n",
       "      <td>97.0</td>\n",
       "    </tr>\n",
       "    <tr>\n",
       "      <th>4</th>\n",
       "      <td>Ethan</td>\n",
       "      <td>9.25</td>\n",
       "      <td>49.0</td>\n",
       "    </tr>\n",
       "  </tbody>\n",
       "</table>\n",
       "</div>"
      ],
      "text/plain": [
       "    Name  StudyHours  Grade\n",
       "0    Dan       10.00   50.0\n",
       "1  Joann       11.50   50.0\n",
       "2  Pedro        9.00   47.0\n",
       "3  Rosie       16.00   97.0\n",
       "4  Ethan        9.25   49.0"
      ]
     },
     "execution_count": 6,
     "metadata": {},
     "output_type": "execute_result"
    }
   ],
   "source": [
    "# Get the rows with index values from 0 to 5\n",
    "# gets rows 0-4\n",
    "df_students.iloc[0:5]"
   ]
  },
  {
   "cell_type": "code",
   "execution_count": null,
   "id": "2fb08e598e7c6253",
   "metadata": {
    "ExecuteTime": {
     "end_time": "2024-06-09T18:32:39.087253Z",
     "start_time": "2024-06-09T18:32:39.072534Z"
    }
   },
   "outputs": [],
   "source": [
    "# Get data in the first row of the df_students.iloc[0]\n",
    "\n",
    "df_students.iloc[0,[1,2]]"
   ]
  },
  {
   "cell_type": "code",
   "execution_count": null,
   "id": "9a7b88621c53ff81",
   "metadata": {
    "ExecuteTime": {
     "end_time": "2024-06-09T18:33:44.569268Z",
     "start_time": "2024-06-09T18:33:44.550907Z"
    }
   },
   "outputs": [],
   "source": [
    "# df_students[df_students['Name']=='Aisha']\n",
    "df_students.loc[df_students['Name']=='Aisha']\n",
    "# df_students.query('Name==\"Aisha\"')\n",
    "# df_students[df_students.Name == 'Aisha']"
   ]
  },
  {
   "cell_type": "markdown",
   "id": "4bc5168c",
   "metadata": {},
   "source": [
    "Inner join DataFrames along an axis"
   ]
  },
  {
   "cell_type": "code",
   "execution_count": null,
   "id": "a1cbf5d7",
   "metadata": {},
   "outputs": [],
   "source": [
    "import pandas as pd\n",
    "\n",
    "df1 = pd.DataFrame({'A': ['A0', 'A1', 'A2', 'A3'],\n",
    "                    'B': ['B0', 'B1', 'B2', 'B3'],\n",
    "                    'C': ['C0', 'C1', 'C2', 'C3'],\n",
    "                    'D': ['D0', 'D1', 'D2', 'D3']},\n",
    "                   index=[0, 1, 2, 3])\n",
    "\n",
    "df2 = pd.DataFrame({'B': ['B2', 'B3', 'B4', 'B5'],\n",
    "                    'D': ['D2', 'D3', 'D4', 'D5'],\n",
    "                    'F': ['F2', 'F3', 'F4', 'F5']},\n",
    "                   index=[2, 3, 4, 5])\n",
    "\n",
    "result = pd.concat([df1, df2], axis=1, join='inner')\n",
    "\n",
    "print(result)"
   ]
  },
  {
   "cell_type": "markdown",
   "id": "7009ccd9",
   "metadata": {},
   "source": [
    "Remove duplicate rows from DataFrame based on all columns using drop_duplicates() method\n"
   ]
  },
  {
   "cell_type": "code",
   "execution_count": null,
   "id": "f43eab77",
   "metadata": {},
   "outputs": [],
   "source": [
    "import pandas as pd\n",
    "\n",
    "df = pd.DataFrame({\n",
    "        'A': [1, 2, 1, 1, 3],\n",
    "        'B': [5, 4, 5, 5, 5],\n",
    "        'C': [9, 10, 9, 9, 8]})\n",
    "\n",
    "df_no_duplicates = df.drop_duplicates()\n",
    "print(f\"Original DataFrame\\n{df}\\n\")\n",
    "print(f\"DataFrame with no duplicates\\n{df_no_duplicates}\")"
   ]
  },
  {
   "cell_type": "markdown",
   "id": "7c186326",
   "metadata": {},
   "source": [
    "Iterate over cells in DataFrame using DataFrame.shape and For loop"
   ]
  },
  {
   "cell_type": "code",
   "execution_count": null,
   "id": "9bd72720",
   "metadata": {},
   "outputs": [],
   "source": [
    "import pandas as pd\n",
    "import numpy as np\n",
    "\n",
    "df = pd.DataFrame(\n",
    "\t[[1, 2, 3],\n",
    "\t[4, 5, 6],\n",
    "\t[7, 8, 9],\n",
    "\t[10, 11, 12]])\n",
    "\n",
    "for i in range(df.shape[0]): #iterate over rows\n",
    "    for j in range(df.shape[1]): #iterate over columns\n",
    "        value = df.at[i, j] #get cell value\n",
    "        print(value, end=\"\\t\")\n",
    "    print()"
   ]
  },
  {
   "cell_type": "code",
   "execution_count": null,
   "id": "52b8ac77",
   "metadata": {},
   "outputs": [],
   "source": [
    "# Iterate over Cells in a DataFrame using iterrows() method\n",
    "import pandas as pd\n",
    "import numpy as np\n",
    "\n",
    "df = pd.DataFrame(\n",
    "\t[[1, 2, 3],\n",
    "\t[4, 5, 6],\n",
    "\t[7, 8, 9],\n",
    "\t[10, 11, 12]])\n",
    "\n",
    "for rowIndex, row in df.iterrows(): #iterate over rows\n",
    "    for columnIndex, value in row.items():\n",
    "        print(value, end=\"\\t\")\n",
    "    print()\n",
    "# Convert DataFrame to numpy array\n",
    "arr = df.to_numpy()\n",
    "print('\\nNumpy Array\\n----------\\n', arr)  "
   ]
  }
 ],
 "metadata": {
  "kernelspec": {
   "display_name": "Python 3",
   "language": "python",
   "name": "python3"
  },
  "language_info": {
   "codemirror_mode": {
    "name": "ipython",
    "version": 3
   },
   "file_extension": ".py",
   "mimetype": "text/x-python",
   "name": "python",
   "nbconvert_exporter": "python",
   "pygments_lexer": "ipython3",
   "version": "3.12.3"
  }
 },
 "nbformat": 4,
 "nbformat_minor": 5
}
