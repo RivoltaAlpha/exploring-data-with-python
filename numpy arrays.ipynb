{
 "cells": [
  {
   "cell_type": "code",
   "execution_count": 2,
   "id": "initial_id",
   "metadata": {
    "ExecuteTime": {
     "end_time": "2024-06-08T11:23:32.376299Z",
     "start_time": "2024-06-08T11:23:32.097683Z"
    },
    "collapsed": true
   },
   "outputs": [
    {
     "name": "stdout",
     "output_type": "stream",
     "text": [
      "[1 2 3 4 5]\n"
     ]
    }
   ],
   "source": [
    "import numpy as np\n",
    "\n",
    "# Create a simple array with integers\n",
    "simple_array = np.array([1, 2, 3, 4, 5])\n",
    "print(simple_array)"
   ]
  },
  {
   "cell_type": "code",
   "execution_count": 6,
   "id": "2ac8671c75c67bc4",
   "metadata": {
    "ExecuteTime": {
     "end_time": "2024-06-08T11:23:43.119550Z",
     "start_time": "2024-06-08T11:23:43.107428Z"
    }
   },
   "outputs": [
    {
     "name": "stdout",
     "output_type": "stream",
     "text": [
      "[[1 2 3]\n",
      " [4 5 6]]\n"
     ]
    }
   ],
   "source": [
    "# Create a 2D array (matrix)\n",
    "two_d_array = np.array([[1, 2, 3], [4, 5, 6]])\n",
    "print(two_d_array)\n"
   ]
  },
  {
   "cell_type": "code",
   "execution_count": 8,
   "id": "118c7bbf4027c99b",
   "metadata": {
    "ExecuteTime": {
     "end_time": "2024-06-08T11:24:03.661914Z",
     "start_time": "2024-06-08T11:24:03.649975Z"
    }
   },
   "outputs": [
    {
     "name": "stdout",
     "output_type": "stream",
     "text": [
      "[ 0  1  2  3  4  5  6  7  8  9 10 11 12 13 14]\n",
      "[2. 3. 4. 5. 6. 7. 8. 9.]\n",
      "[2.  2.1 2.2 2.3 2.4 2.5 2.6 2.7 2.8 2.9]\n"
     ]
    }
   ],
   "source": [
    "# Create an array with a range of elements\n",
    "range_array = np.arange(15)\n",
    "print(range_array)\n",
    "\n",
    "# Create an array with a range of floats\n",
    "float_array = np.arange(2, 10, dtype=float)\n",
    "print(float_array)\n",
    "\n",
    "# Create an array with a step size\n",
    "step_array = np.arange(2, 3, 0.1)\n",
    "print(step_array)\n"
   ]
  },
  {
   "cell_type": "code",
   "execution_count": 9,
   "id": "fbee293a0d8ff59a",
   "metadata": {
    "ExecuteTime": {
     "end_time": "2024-06-08T11:24:27.329974Z",
     "start_time": "2024-06-08T11:24:27.310072Z"
    }
   },
   "outputs": [
    {
     "name": "stdout",
     "output_type": "stream",
     "text": [
      "[[[ 0  1  2]\n",
      "  [ 3  4  5]\n",
      "  [ 6  7  8]\n",
      "  [ 9 10 11]]\n",
      "\n",
      " [[12 13 14]\n",
      "  [15 16 17]\n",
      "  [18 19 20]\n",
      "  [21 22 23]]\n",
      "\n",
      " [[24 25 26]\n",
      "  [27 28 29]\n",
      "  [30 31 32]\n",
      "  [33 34 35]]]\n"
     ]
    }
   ],
   "source": [
    "# Reshape a 1D array to a 3D array\n",
    "arr = np.arange(36)\n",
    "reshaped_arr = arr.reshape(3, 4, 3)\n",
    "print(reshaped_arr)\n"
   ]
  },
  {
   "cell_type": "code",
   "execution_count": null,
   "id": "59e3a0d120fb9522",
   "metadata": {},
   "outputs": [],
   "source": []
  }
 ],
 "metadata": {
  "kernelspec": {
   "display_name": "Python 3",
   "language": "python",
   "name": "python3"
  },
  "language_info": {
   "codemirror_mode": {
    "name": "ipython",
    "version": 3
   },
   "file_extension": ".py",
   "mimetype": "text/x-python",
   "name": "python",
   "nbconvert_exporter": "python",
   "pygments_lexer": "ipython3",
   "version": "3.12.1"
  }
 },
 "nbformat": 4,
 "nbformat_minor": 5
}
