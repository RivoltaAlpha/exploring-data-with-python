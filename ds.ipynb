{
 "cells": [
  {
   "cell_type": "code",
   "execution_count": 16,
   "id": "initial_id",
   "metadata": {
    "ExecuteTime": {
     "end_time": "2024-06-12T18:20:15.205395Z",
     "start_time": "2024-06-12T18:20:12.800344Z"
    },
    "collapsed": true
   },
   "outputs": [],
   "source": [
    "#Python loops\n",
    "import math\n",
    "import collections\n",
    "from itertools import combinations\n",
    "\n",
    "import numpy as np\n",
    "import pandas as pd\n",
    "import matplotlib.pyplot as pp\n",
    "\n",
    "%matplotlib inline   "
   ]
  },
  {
   "cell_type": "code",
   "execution_count": 17,
   "id": "54519f8636ea0bc",
   "metadata": {
    "ExecuteTime": {
     "end_time": "2024-06-08T05:26:41.461695Z",
     "start_time": "2024-06-08T05:26:41.450Z"
    }
   },
   "outputs": [
    {
     "name": "stdout",
     "output_type": "stream",
     "text": [
      "0\n",
      "1\n",
      "2\n",
      "3\n",
      "4\n",
      "5\n",
      "6\n",
      "7\n",
      "8\n",
      "9\n",
      "10\n"
     ]
    }
   ],
   "source": [
    "for i in range(0, 11):\n",
    "    print(i)"
   ]
  },
  {
   "cell_type": "code",
   "execution_count": 18,
   "id": "a365efdb6d2f9e34",
   "metadata": {
    "ExecuteTime": {
     "end_time": "2024-06-08T05:26:58.678742Z",
     "start_time": "2024-06-08T05:26:58.669744Z"
    }
   },
   "outputs": [
    {
     "name": "stdout",
     "output_type": "stream",
     "text": [
      "0\n",
      "2\n",
      "4\n",
      "6\n",
      "8\n"
     ]
    }
   ],
   "source": [
    "for i in range(0, 10, 2):\n",
    "    print(i)"
   ]
  },
  {
   "cell_type": "code",
   "execution_count": 22,
   "id": "c75013fa4e94d432",
   "metadata": {
    "ExecuteTime": {
     "end_time": "2024-06-08T05:35:41.916554Z",
     "start_time": "2024-06-08T05:35:41.902444Z"
    }
   },
   "outputs": [],
   "source": [
    "#loop over multiple counts\n",
    "combinations = []\n",
    "for i10 in range(0, 10, 2):\n",
    "    # for i20 in range(10, 20, 2):\n",
    "    #     for i30 in range(20, 30, 2):\n",
    "                    if i10 :\n",
    "                        combinations.append([i10])\n",
    "                        "
   ]
  },
  {
   "cell_type": "code",
   "execution_count": 23,
   "id": "9d81c73046697de7",
   "metadata": {
    "ExecuteTime": {
     "end_time": "2024-06-08T05:36:18.145919Z",
     "start_time": "2024-06-08T05:36:18.116724Z"
    }
   },
   "outputs": [
    {
     "data": {
      "text/plain": [
       "[[2], [4], [6], [8]]"
      ]
     },
     "execution_count": 23,
     "metadata": {},
     "output_type": "execute_result"
    }
   ],
   "source": [
    "combinations"
   ]
  },
  {
   "cell_type": "code",
   "execution_count": 24,
   "id": "99aa703bee9a5f56",
   "metadata": {
    "ExecuteTime": {
     "end_time": "2024-06-08T05:37:04.437885Z",
     "start_time": "2024-06-08T05:37:04.427864Z"
    }
   },
   "outputs": [
    {
     "data": {
      "text/plain": [
       "4"
      ]
     },
     "execution_count": 24,
     "metadata": {},
     "output_type": "execute_result"
    }
   ],
   "source": [
    "len(combinations)"
   ]
  },
  {
   "cell_type": "code",
   "execution_count": 25,
   "id": "5ff6ed4319f7ce6d",
   "metadata": {
    "ExecuteTime": {
     "end_time": "2024-06-08T05:44:54.026223Z",
     "start_time": "2024-06-08T05:44:54.015039Z"
    }
   },
   "outputs": [
    {
     "name": "stdout",
     "output_type": "stream",
     "text": [
      "['April Duck', 'Dewey', 'Huey']\n"
     ]
    }
   ],
   "source": [
    "# lists,tuples and slicing\n",
    "#this is a list\n",
    "nephews = [\"Huey\", \"Dewey\", \"Louie\"]\n",
    "# len(nephews)\n",
    "# nephews[-1], nephews[-2]\n",
    "nephews.append('April Duck')\n",
    "nephews.sort()\n",
    "nephews.remove('Louie')\n",
    "print(nephews)"
   ]
  },
  {
   "cell_type": "code",
   "execution_count": 8,
   "id": "ddf37f67565998ad",
   "metadata": {
    "ExecuteTime": {
     "end_time": "2024-06-08T05:46:14.921696Z",
     "start_time": "2024-06-08T05:46:14.895796Z"
    }
   },
   "outputs": [
    {
     "data": {
      "text/plain": [
       "{'United States': 'Washington, DC',\n",
       " 'France': 'Paris',\n",
       " 'Italy': 'Rome',\n",
       " 'Germany': 'Berlin',\n",
       " 'United Kingdom': 'London'}"
      ]
     },
     "execution_count": 8,
     "metadata": {},
     "output_type": "execute_result"
    }
   ],
   "source": [
    "# Dictionaries\n",
    "capitals = {'United States': 'Washington, DC', 'France': 'Paris', 'Italy': 'Rome', 'Germany': 'Berlin', 'United Kingdom': 'London'}\n",
    "\n",
    "capitals"
   ]
  },
  {
   "cell_type": "code",
   "execution_count": 28,
   "id": "ea7f295c5924ab1e",
   "metadata": {
    "ExecuteTime": {
     "end_time": "2024-06-08T05:47:37.066465Z",
     "start_time": "2024-06-08T05:47:37.056074Z"
    }
   },
   "outputs": [
    {
     "data": {
      "text/plain": [
       "dict_items([('United States', 'Washington, DC'), ('France', 'Paris'), ('Italy', 'Rome'), ('Germany', 'Berlin'), ('United Kingdom', 'London')])"
      ]
     },
     "execution_count": 28,
     "metadata": {},
     "output_type": "execute_result"
    }
   ],
   "source": [
    "# capitals.keys()\n",
    "#capitals.values()\n",
    "capitals.items()"
   ]
  },
  {
   "cell_type": "code",
   "execution_count": 10,
   "id": "77ce8819fec0ab92",
   "metadata": {
    "ExecuteTime": {
     "end_time": "2024-06-08T05:49:06.682240Z",
     "start_time": "2024-06-08T05:49:06.668533Z"
    }
   },
   "outputs": [
    {
     "data": {
      "text/plain": [
       "[1, 4, 9, 16, 25, 36, 49, 64, 81, 100]"
      ]
     },
     "execution_count": 10,
     "metadata": {},
     "output_type": "execute_result"
    }
   ],
   "source": [
    "# comprehensions\n",
    "squares = []\n",
    "for i in range(1, 11):\n",
    "    squares.append(i**2)\n",
    "squares"
   ]
  },
  {
   "cell_type": "code",
   "execution_count": 29,
   "id": "dff155bd2ca4d999",
   "metadata": {
    "ExecuteTime": {
     "end_time": "2024-06-08T05:49:40.191532Z",
     "start_time": "2024-06-08T05:49:40.179530Z"
    }
   },
   "outputs": [
    {
     "data": {
      "text/plain": [
       "[4, 16, 36, 64, 100]"
      ]
     },
     "execution_count": 29,
     "metadata": {},
     "output_type": "execute_result"
    }
   ],
   "source": [
    "# list of the squares from 1^2 to 10^2, including only those divisible by 4\n",
    "squares_by_four = [i**2 for i in range(1, 11) if i**2 % 4 == 0]\n",
    "squares_by_four"
   ]
  },
  {
   "cell_type": "code",
   "execution_count": 30,
   "id": "4aedc69c82801521",
   "metadata": {
    "ExecuteTime": {
     "end_time": "2024-06-08T05:50:17.495135Z",
     "start_time": "2024-06-08T05:50:17.487158Z"
    }
   },
   "outputs": [
    {
     "name": "stdout",
     "output_type": "stream",
     "text": [
      "[1, 1, 2, 1, 2, 3, 1, 2, 3, 4, 1, 2, 3, 4, 5, 1, 2, 3, 4, 5, 6, 1, 2, 3, 4, 5, 6, 7, 1, 2, 3, 4, 5, 6, 7, 8, 1, 2, 3, 4, 5, 6, 7, 8, 9, 1, 2, 3, 4, 5, 6, 7, 8, 9, 10]\n"
     ]
    }
   ],
   "source": [
    "counting = []\n",
    "\n",
    "for i in range(1, 11):\n",
    "    for j in range(1, i+1):\n",
    "        counting.append(j)\n",
    "        \n",
    "print(counting)"
   ]
  },
  {
   "cell_type": "code",
   "execution_count": 13,
   "id": "9a0580afa83ea529",
   "metadata": {
    "ExecuteTime": {
     "end_time": "2024-06-08T05:50:40.084729Z",
     "start_time": "2024-06-08T05:50:40.073309Z"
    }
   },
   "outputs": [
    {
     "name": "stdout",
     "output_type": "stream",
     "text": [
      "[1, 1, 2, 1, 2, 3, 1, 2, 3, 4, 1, 2, 3, 4, 5, 1, 2, 3, 4, 5, 6, 1, 2, 3, 4, 5, 6, 7, 1, 2, 3, 4, 5, 6, 7, 8, 1, 2, 3, 4, 5, 6, 7, 8, 9, 1, 2, 3, 4, 5, 6, 7, 8, 9, 10]\n"
     ]
    }
   ],
   "source": [
    "# nested comprehension\n",
    "counting = [j for i in range(1, 11) for j in range(1, i+1)]\n",
    "print(counting)"
   ]
  },
  {
   "cell_type": "code",
   "execution_count": 14,
   "id": "e4bf6eec84b619f4",
   "metadata": {
    "ExecuteTime": {
     "end_time": "2024-06-08T07:51:16.590481Z",
     "start_time": "2024-06-08T07:51:16.574580Z"
    }
   },
   "outputs": [
    {
     "data": {
      "text/plain": [
       "[0, 1, 4, 9, 16, 25, 36, 49, 64, 81]"
      ]
     },
     "execution_count": 14,
     "metadata": {},
     "output_type": "execute_result"
    }
   ],
   "source": [
    "# Squaring numbers in a range and creating a list\n",
    "squares = [x**2 for x in range(10)]\n",
    "squares"
   ]
  },
  {
   "cell_type": "code",
   "execution_count": 15,
   "id": "831f361e6b13b6b3",
   "metadata": {
    "ExecuteTime": {
     "end_time": "2024-06-08T07:51:45.972986Z",
     "start_time": "2024-06-08T07:51:45.954549Z"
    }
   },
   "outputs": [
    {
     "data": {
      "text/plain": [
       "{0: 0, 1: 1, 2: 4, 3: 9, 4: 16}"
      ]
     },
     "execution_count": 15,
     "metadata": {},
     "output_type": "execute_result"
    }
   ],
   "source": [
    "# Creating a dictionary with number-square pairs\n",
    "squares_dict = {x: x**2 for x in range(5)}\n",
    "squares_dict"
   ]
  },
  {
   "cell_type": "code",
   "execution_count": null,
   "id": "7df663d9f095fa9b",
   "metadata": {},
   "outputs": [],
   "source": []
  }
 ],
 "metadata": {
  "kernelspec": {
   "display_name": "Python 3",
   "language": "python",
   "name": "python3"
  },
  "language_info": {
   "codemirror_mode": {
    "name": "ipython",
    "version": 3
   },
   "file_extension": ".py",
   "mimetype": "text/x-python",
   "name": "python",
   "nbconvert_exporter": "python",
   "pygments_lexer": "ipython3",
   "version": "3.12.1"
  }
 },
 "nbformat": 4,
 "nbformat_minor": 5
}
