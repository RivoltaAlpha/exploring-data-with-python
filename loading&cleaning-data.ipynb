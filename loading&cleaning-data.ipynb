{
 "cells": [
  {
   "cell_type": "markdown",
   "id": "308b6365",
   "metadata": {},
   "source": [
    "Loading Datasets"
   ]
  },
  {
   "cell_type": "code",
   "execution_count": null,
   "id": "7084cb7152a0c7ff",
   "metadata": {
    "ExecuteTime": {
     "end_time": "2024-06-09T20:52:25.399707Z",
     "start_time": "2024-06-09T20:52:25.369019Z"
    }
   },
   "outputs": [],
   "source": [
    "import pandas as pd\n",
    "\n",
    "# load data from a CSV file\n",
    "df = pd.read_csv('data.csv') \n",
    "print(df)"
   ]
  },
  {
   "cell_type": "code",
   "execution_count": 1,
   "id": "fea660fc390f2f42",
   "metadata": {
    "ExecuteTime": {
     "end_time": "2024-06-09T20:52:29.759712Z",
     "start_time": "2024-06-09T20:52:29.709659Z"
    }
   },
   "outputs": [
    {
     "data": {
      "text/html": [
       "<div>\n",
       "<style scoped>\n",
       "    .dataframe tbody tr th:only-of-type {\n",
       "        vertical-align: middle;\n",
       "    }\n",
       "\n",
       "    .dataframe tbody tr th {\n",
       "        vertical-align: top;\n",
       "    }\n",
       "\n",
       "    .dataframe thead th {\n",
       "        text-align: right;\n",
       "    }\n",
       "</style>\n",
       "<table border=\"1\" class=\"dataframe\">\n",
       "  <thead>\n",
       "    <tr style=\"text-align: right;\">\n",
       "      <th></th>\n",
       "      <th>student_ID</th>\n",
       "      <th>hours_spent_studying</th>\n",
       "      <th>physics</th>\n",
       "      <th>bio</th>\n",
       "      <th>maths</th>\n",
       "      <th>chemistry</th>\n",
       "    </tr>\n",
       "  </thead>\n",
       "  <tbody>\n",
       "    <tr>\n",
       "      <th>count</th>\n",
       "      <td>28.000000</td>\n",
       "      <td>27.000000</td>\n",
       "      <td>26.000000</td>\n",
       "      <td>28.000000</td>\n",
       "      <td>28.000000</td>\n",
       "      <td>27.000000</td>\n",
       "    </tr>\n",
       "    <tr>\n",
       "      <th>mean</th>\n",
       "      <td>15.357143</td>\n",
       "      <td>12.407407</td>\n",
       "      <td>77.038462</td>\n",
       "      <td>80.571429</td>\n",
       "      <td>79.464286</td>\n",
       "      <td>77.518519</td>\n",
       "    </tr>\n",
       "    <tr>\n",
       "      <th>std</th>\n",
       "      <td>9.080766</td>\n",
       "      <td>3.261185</td>\n",
       "      <td>9.889310</td>\n",
       "      <td>8.979106</td>\n",
       "      <td>10.329684</td>\n",
       "      <td>9.593148</td>\n",
       "    </tr>\n",
       "    <tr>\n",
       "      <th>min</th>\n",
       "      <td>1.000000</td>\n",
       "      <td>7.000000</td>\n",
       "      <td>60.000000</td>\n",
       "      <td>65.000000</td>\n",
       "      <td>62.000000</td>\n",
       "      <td>60.000000</td>\n",
       "    </tr>\n",
       "    <tr>\n",
       "      <th>25%</th>\n",
       "      <td>7.750000</td>\n",
       "      <td>10.000000</td>\n",
       "      <td>68.500000</td>\n",
       "      <td>73.500000</td>\n",
       "      <td>69.750000</td>\n",
       "      <td>70.500000</td>\n",
       "    </tr>\n",
       "    <tr>\n",
       "      <th>50%</th>\n",
       "      <td>15.000000</td>\n",
       "      <td>12.000000</td>\n",
       "      <td>78.000000</td>\n",
       "      <td>81.500000</td>\n",
       "      <td>80.000000</td>\n",
       "      <td>78.000000</td>\n",
       "    </tr>\n",
       "    <tr>\n",
       "      <th>75%</th>\n",
       "      <td>23.250000</td>\n",
       "      <td>15.000000</td>\n",
       "      <td>85.000000</td>\n",
       "      <td>88.250000</td>\n",
       "      <td>88.250000</td>\n",
       "      <td>86.500000</td>\n",
       "    </tr>\n",
       "    <tr>\n",
       "      <th>max</th>\n",
       "      <td>30.000000</td>\n",
       "      <td>18.000000</td>\n",
       "      <td>92.000000</td>\n",
       "      <td>94.000000</td>\n",
       "      <td>95.000000</td>\n",
       "      <td>91.000000</td>\n",
       "    </tr>\n",
       "  </tbody>\n",
       "</table>\n",
       "</div>"
      ],
      "text/plain": [
       "       student_ID  hours_spent_studying    physics        bio      maths  \\\n",
       "count   28.000000             27.000000  26.000000  28.000000  28.000000   \n",
       "mean    15.357143             12.407407  77.038462  80.571429  79.464286   \n",
       "std      9.080766              3.261185   9.889310   8.979106  10.329684   \n",
       "min      1.000000              7.000000  60.000000  65.000000  62.000000   \n",
       "25%      7.750000             10.000000  68.500000  73.500000  69.750000   \n",
       "50%     15.000000             12.000000  78.000000  81.500000  80.000000   \n",
       "75%     23.250000             15.000000  85.000000  88.250000  88.250000   \n",
       "max     30.000000             18.000000  92.000000  94.000000  95.000000   \n",
       "\n",
       "       chemistry  \n",
       "count  27.000000  \n",
       "mean   77.518519  \n",
       "std     9.593148  \n",
       "min    60.000000  \n",
       "25%    70.500000  \n",
       "50%    78.000000  \n",
       "75%    86.500000  \n",
       "max    91.000000  "
      ]
     },
     "execution_count": 1,
     "metadata": {},
     "output_type": "execute_result"
    }
   ],
   "source": [
    "import pandas as pd\n",
    "df = pd.read_csv('data.csv')\n",
    "df.describe()"
   ]
  },
  {
   "cell_type": "code",
   "execution_count": 18,
   "id": "8591896426d81f26",
   "metadata": {
    "ExecuteTime": {
     "end_time": "2024-06-09T19:19:26.024319Z",
     "start_time": "2024-06-09T19:19:26.005498Z"
    }
   },
   "outputs": [
    {
     "data": {
      "text/plain": [
       "student_ID              0\n",
       "class                   0\n",
       "hours_spent_studying    1\n",
       "physics                 2\n",
       "bio                     0\n",
       "maths                   0\n",
       "chemistry               1\n",
       "dtype: int64"
      ]
     },
     "execution_count": 18,
     "metadata": {},
     "output_type": "execute_result"
    }
   ],
   "source": [
    "import pandas as pd\n",
    "\n",
    "# load data from a CSV file\n",
    "df = pd.read_csv('data.csv')\n",
    "df.isnull().sum()"
   ]
  },
  {
   "cell_type": "code",
   "execution_count": 19,
   "id": "683fe86e61079053",
   "metadata": {
    "ExecuteTime": {
     "end_time": "2024-06-09T19:19:37.041979Z",
     "start_time": "2024-06-09T19:19:37.019226Z"
    }
   },
   "outputs": [
    {
     "data": {
      "text/html": [
       "<div>\n",
       "<style scoped>\n",
       "    .dataframe tbody tr th:only-of-type {\n",
       "        vertical-align: middle;\n",
       "    }\n",
       "\n",
       "    .dataframe tbody tr th {\n",
       "        vertical-align: top;\n",
       "    }\n",
       "\n",
       "    .dataframe thead th {\n",
       "        text-align: right;\n",
       "    }\n",
       "</style>\n",
       "<table border=\"1\" class=\"dataframe\">\n",
       "  <thead>\n",
       "    <tr style=\"text-align: right;\">\n",
       "      <th></th>\n",
       "      <th>student_ID</th>\n",
       "      <th>class</th>\n",
       "      <th>hours_spent_studying</th>\n",
       "      <th>physics</th>\n",
       "      <th>bio</th>\n",
       "      <th>maths</th>\n",
       "      <th>chemistry</th>\n",
       "    </tr>\n",
       "  </thead>\n",
       "  <tbody>\n",
       "    <tr>\n",
       "      <th>1</th>\n",
       "      <td>2</td>\n",
       "      <td>B</td>\n",
       "      <td>12.0</td>\n",
       "      <td>78.0</td>\n",
       "      <td>82</td>\n",
       "      <td>80</td>\n",
       "      <td>NaN</td>\n",
       "    </tr>\n",
       "    <tr>\n",
       "      <th>8</th>\n",
       "      <td>9</td>\n",
       "      <td>A</td>\n",
       "      <td>NaN</td>\n",
       "      <td>68.0</td>\n",
       "      <td>72</td>\n",
       "      <td>69</td>\n",
       "      <td>71.0</td>\n",
       "    </tr>\n",
       "    <tr>\n",
       "      <th>16</th>\n",
       "      <td>18</td>\n",
       "      <td>B</td>\n",
       "      <td>14.0</td>\n",
       "      <td>NaN</td>\n",
       "      <td>84</td>\n",
       "      <td>82</td>\n",
       "      <td>81.0</td>\n",
       "    </tr>\n",
       "    <tr>\n",
       "      <th>24</th>\n",
       "      <td>27</td>\n",
       "      <td>A</td>\n",
       "      <td>11.0</td>\n",
       "      <td>NaN</td>\n",
       "      <td>78</td>\n",
       "      <td>76</td>\n",
       "      <td>74.0</td>\n",
       "    </tr>\n",
       "  </tbody>\n",
       "</table>\n",
       "</div>"
      ],
      "text/plain": [
       "    student_ID class  hours_spent_studying  physics  bio  maths  chemistry\n",
       "1            2     B                  12.0     78.0   82     80        NaN\n",
       "8            9     A                   NaN     68.0   72     69       71.0\n",
       "16          18     B                  14.0      NaN   84     82       81.0\n",
       "24          27     A                  11.0      NaN   78     76       74.0"
      ]
     },
     "execution_count": 19,
     "metadata": {},
     "output_type": "execute_result"
    }
   ],
   "source": [
    "# filter df to include only the rows where the data is null\n",
    "df[df.isnull().any(axis=1)]"
   ]
  },
  {
   "cell_type": "code",
   "execution_count": 20,
   "id": "8a860eaccac9eb42",
   "metadata": {
    "ExecuteTime": {
     "end_time": "2024-06-09T21:39:41.018093Z",
     "start_time": "2024-06-09T21:39:40.981011Z"
    }
   },
   "outputs": [
    {
     "data": {
      "text/html": [
       "<div>\n",
       "<style scoped>\n",
       "    .dataframe tbody tr th:only-of-type {\n",
       "        vertical-align: middle;\n",
       "    }\n",
       "\n",
       "    .dataframe tbody tr th {\n",
       "        vertical-align: top;\n",
       "    }\n",
       "\n",
       "    .dataframe thead th {\n",
       "        text-align: right;\n",
       "    }\n",
       "</style>\n",
       "<table border=\"1\" class=\"dataframe\">\n",
       "  <thead>\n",
       "    <tr style=\"text-align: right;\">\n",
       "      <th></th>\n",
       "      <th>student_ID</th>\n",
       "      <th>class</th>\n",
       "      <th>hours_spent_studying</th>\n",
       "      <th>physics</th>\n",
       "      <th>bio</th>\n",
       "      <th>maths</th>\n",
       "      <th>chemistry</th>\n",
       "    </tr>\n",
       "  </thead>\n",
       "  <tbody>\n",
       "    <tr>\n",
       "      <th>0</th>\n",
       "      <td>1</td>\n",
       "      <td>A</td>\n",
       "      <td>15.000000</td>\n",
       "      <td>85.000000</td>\n",
       "      <td>90</td>\n",
       "      <td>95</td>\n",
       "      <td>88.000000</td>\n",
       "    </tr>\n",
       "    <tr>\n",
       "      <th>1</th>\n",
       "      <td>2</td>\n",
       "      <td>B</td>\n",
       "      <td>12.000000</td>\n",
       "      <td>78.000000</td>\n",
       "      <td>82</td>\n",
       "      <td>80</td>\n",
       "      <td>77.518519</td>\n",
       "    </tr>\n",
       "    <tr>\n",
       "      <th>2</th>\n",
       "      <td>3</td>\n",
       "      <td>A</td>\n",
       "      <td>10.000000</td>\n",
       "      <td>72.000000</td>\n",
       "      <td>75</td>\n",
       "      <td>70</td>\n",
       "      <td>78.000000</td>\n",
       "    </tr>\n",
       "    <tr>\n",
       "      <th>3</th>\n",
       "      <td>4</td>\n",
       "      <td>B</td>\n",
       "      <td>18.000000</td>\n",
       "      <td>90.000000</td>\n",
       "      <td>92</td>\n",
       "      <td>93</td>\n",
       "      <td>91.000000</td>\n",
       "    </tr>\n",
       "    <tr>\n",
       "      <th>4</th>\n",
       "      <td>5</td>\n",
       "      <td>A</td>\n",
       "      <td>8.000000</td>\n",
       "      <td>65.000000</td>\n",
       "      <td>70</td>\n",
       "      <td>68</td>\n",
       "      <td>66.000000</td>\n",
       "    </tr>\n",
       "    <tr>\n",
       "      <th>5</th>\n",
       "      <td>6</td>\n",
       "      <td>B</td>\n",
       "      <td>14.000000</td>\n",
       "      <td>82.000000</td>\n",
       "      <td>85</td>\n",
       "      <td>88</td>\n",
       "      <td>87.000000</td>\n",
       "    </tr>\n",
       "    <tr>\n",
       "      <th>6</th>\n",
       "      <td>7</td>\n",
       "      <td>A</td>\n",
       "      <td>11.000000</td>\n",
       "      <td>75.000000</td>\n",
       "      <td>80</td>\n",
       "      <td>77</td>\n",
       "      <td>73.000000</td>\n",
       "    </tr>\n",
       "    <tr>\n",
       "      <th>7</th>\n",
       "      <td>8</td>\n",
       "      <td>B</td>\n",
       "      <td>13.000000</td>\n",
       "      <td>80.000000</td>\n",
       "      <td>83</td>\n",
       "      <td>85</td>\n",
       "      <td>79.000000</td>\n",
       "    </tr>\n",
       "    <tr>\n",
       "      <th>8</th>\n",
       "      <td>9</td>\n",
       "      <td>A</td>\n",
       "      <td>12.407407</td>\n",
       "      <td>68.000000</td>\n",
       "      <td>72</td>\n",
       "      <td>69</td>\n",
       "      <td>71.000000</td>\n",
       "    </tr>\n",
       "    <tr>\n",
       "      <th>9</th>\n",
       "      <td>10</td>\n",
       "      <td>B</td>\n",
       "      <td>16.000000</td>\n",
       "      <td>88.000000</td>\n",
       "      <td>90</td>\n",
       "      <td>92</td>\n",
       "      <td>89.000000</td>\n",
       "    </tr>\n",
       "    <tr>\n",
       "      <th>10</th>\n",
       "      <td>11</td>\n",
       "      <td>A</td>\n",
       "      <td>7.000000</td>\n",
       "      <td>60.000000</td>\n",
       "      <td>65</td>\n",
       "      <td>63</td>\n",
       "      <td>62.000000</td>\n",
       "    </tr>\n",
       "    <tr>\n",
       "      <th>11</th>\n",
       "      <td>12</td>\n",
       "      <td>B</td>\n",
       "      <td>17.000000</td>\n",
       "      <td>91.000000</td>\n",
       "      <td>93</td>\n",
       "      <td>94</td>\n",
       "      <td>90.000000</td>\n",
       "    </tr>\n",
       "    <tr>\n",
       "      <th>12</th>\n",
       "      <td>13</td>\n",
       "      <td>A</td>\n",
       "      <td>12.000000</td>\n",
       "      <td>74.000000</td>\n",
       "      <td>78</td>\n",
       "      <td>76</td>\n",
       "      <td>75.000000</td>\n",
       "    </tr>\n",
       "    <tr>\n",
       "      <th>13</th>\n",
       "      <td>14</td>\n",
       "      <td>B</td>\n",
       "      <td>15.000000</td>\n",
       "      <td>85.000000</td>\n",
       "      <td>88</td>\n",
       "      <td>90</td>\n",
       "      <td>86.000000</td>\n",
       "    </tr>\n",
       "    <tr>\n",
       "      <th>14</th>\n",
       "      <td>16</td>\n",
       "      <td>B</td>\n",
       "      <td>13.000000</td>\n",
       "      <td>83.000000</td>\n",
       "      <td>87</td>\n",
       "      <td>84</td>\n",
       "      <td>82.000000</td>\n",
       "    </tr>\n",
       "    <tr>\n",
       "      <th>15</th>\n",
       "      <td>17</td>\n",
       "      <td>A</td>\n",
       "      <td>9.000000</td>\n",
       "      <td>66.000000</td>\n",
       "      <td>70</td>\n",
       "      <td>68</td>\n",
       "      <td>67.000000</td>\n",
       "    </tr>\n",
       "    <tr>\n",
       "      <th>16</th>\n",
       "      <td>18</td>\n",
       "      <td>B</td>\n",
       "      <td>14.000000</td>\n",
       "      <td>77.038462</td>\n",
       "      <td>84</td>\n",
       "      <td>82</td>\n",
       "      <td>81.000000</td>\n",
       "    </tr>\n",
       "    <tr>\n",
       "      <th>17</th>\n",
       "      <td>19</td>\n",
       "      <td>A</td>\n",
       "      <td>11.000000</td>\n",
       "      <td>71.000000</td>\n",
       "      <td>75</td>\n",
       "      <td>73</td>\n",
       "      <td>70.000000</td>\n",
       "    </tr>\n",
       "    <tr>\n",
       "      <th>18</th>\n",
       "      <td>21</td>\n",
       "      <td>A</td>\n",
       "      <td>8.000000</td>\n",
       "      <td>64.000000</td>\n",
       "      <td>67</td>\n",
       "      <td>65</td>\n",
       "      <td>63.000000</td>\n",
       "    </tr>\n",
       "    <tr>\n",
       "      <th>19</th>\n",
       "      <td>22</td>\n",
       "      <td>B</td>\n",
       "      <td>18.000000</td>\n",
       "      <td>92.000000</td>\n",
       "      <td>94</td>\n",
       "      <td>93</td>\n",
       "      <td>91.000000</td>\n",
       "    </tr>\n",
       "    <tr>\n",
       "      <th>20</th>\n",
       "      <td>23</td>\n",
       "      <td>A</td>\n",
       "      <td>7.000000</td>\n",
       "      <td>61.000000</td>\n",
       "      <td>65</td>\n",
       "      <td>62</td>\n",
       "      <td>60.000000</td>\n",
       "    </tr>\n",
       "    <tr>\n",
       "      <th>21</th>\n",
       "      <td>24</td>\n",
       "      <td>B</td>\n",
       "      <td>15.000000</td>\n",
       "      <td>86.000000</td>\n",
       "      <td>89</td>\n",
       "      <td>87</td>\n",
       "      <td>84.000000</td>\n",
       "    </tr>\n",
       "    <tr>\n",
       "      <th>22</th>\n",
       "      <td>25</td>\n",
       "      <td>A</td>\n",
       "      <td>10.000000</td>\n",
       "      <td>70.000000</td>\n",
       "      <td>74</td>\n",
       "      <td>72</td>\n",
       "      <td>71.000000</td>\n",
       "    </tr>\n",
       "    <tr>\n",
       "      <th>23</th>\n",
       "      <td>26</td>\n",
       "      <td>B</td>\n",
       "      <td>12.000000</td>\n",
       "      <td>78.000000</td>\n",
       "      <td>81</td>\n",
       "      <td>80</td>\n",
       "      <td>77.000000</td>\n",
       "    </tr>\n",
       "    <tr>\n",
       "      <th>24</th>\n",
       "      <td>27</td>\n",
       "      <td>A</td>\n",
       "      <td>11.000000</td>\n",
       "      <td>77.038462</td>\n",
       "      <td>78</td>\n",
       "      <td>76</td>\n",
       "      <td>74.000000</td>\n",
       "    </tr>\n",
       "    <tr>\n",
       "      <th>25</th>\n",
       "      <td>28</td>\n",
       "      <td>B</td>\n",
       "      <td>14.000000</td>\n",
       "      <td>84.000000</td>\n",
       "      <td>87</td>\n",
       "      <td>85</td>\n",
       "      <td>83.000000</td>\n",
       "    </tr>\n",
       "    <tr>\n",
       "      <th>26</th>\n",
       "      <td>29</td>\n",
       "      <td>A</td>\n",
       "      <td>9.000000</td>\n",
       "      <td>67.000000</td>\n",
       "      <td>71</td>\n",
       "      <td>69</td>\n",
       "      <td>68.000000</td>\n",
       "    </tr>\n",
       "    <tr>\n",
       "      <th>27</th>\n",
       "      <td>30</td>\n",
       "      <td>B</td>\n",
       "      <td>16.000000</td>\n",
       "      <td>88.000000</td>\n",
       "      <td>91</td>\n",
       "      <td>89</td>\n",
       "      <td>87.000000</td>\n",
       "    </tr>\n",
       "  </tbody>\n",
       "</table>\n",
       "</div>"
      ],
      "text/plain": [
       "    student_ID class  hours_spent_studying    physics  bio  maths  chemistry\n",
       "0            1     A             15.000000  85.000000   90     95  88.000000\n",
       "1            2     B             12.000000  78.000000   82     80  77.518519\n",
       "2            3     A             10.000000  72.000000   75     70  78.000000\n",
       "3            4     B             18.000000  90.000000   92     93  91.000000\n",
       "4            5     A              8.000000  65.000000   70     68  66.000000\n",
       "5            6     B             14.000000  82.000000   85     88  87.000000\n",
       "6            7     A             11.000000  75.000000   80     77  73.000000\n",
       "7            8     B             13.000000  80.000000   83     85  79.000000\n",
       "8            9     A             12.407407  68.000000   72     69  71.000000\n",
       "9           10     B             16.000000  88.000000   90     92  89.000000\n",
       "10          11     A              7.000000  60.000000   65     63  62.000000\n",
       "11          12     B             17.000000  91.000000   93     94  90.000000\n",
       "12          13     A             12.000000  74.000000   78     76  75.000000\n",
       "13          14     B             15.000000  85.000000   88     90  86.000000\n",
       "14          16     B             13.000000  83.000000   87     84  82.000000\n",
       "15          17     A              9.000000  66.000000   70     68  67.000000\n",
       "16          18     B             14.000000  77.038462   84     82  81.000000\n",
       "17          19     A             11.000000  71.000000   75     73  70.000000\n",
       "18          21     A              8.000000  64.000000   67     65  63.000000\n",
       "19          22     B             18.000000  92.000000   94     93  91.000000\n",
       "20          23     A              7.000000  61.000000   65     62  60.000000\n",
       "21          24     B             15.000000  86.000000   89     87  84.000000\n",
       "22          25     A             10.000000  70.000000   74     72  71.000000\n",
       "23          26     B             12.000000  78.000000   81     80  77.000000\n",
       "24          27     A             11.000000  77.038462   78     76  74.000000\n",
       "25          28     B             14.000000  84.000000   87     85  83.000000\n",
       "26          29     A              9.000000  67.000000   71     69  68.000000\n",
       "27          30     B             16.000000  88.000000   91     89  87.000000"
      ]
     },
     "execution_count": 20,
     "metadata": {},
     "output_type": "execute_result"
    }
   ],
   "source": [
    "# hours spent studying\n",
    "df.hours_spent_studying = df.hours_spent_studying.fillna(df.hours_spent_studying.mean())\n",
    "df.physics = df.physics.fillna(df.physics.mean())\n",
    "df.chemistry = df.chemistry.fillna(df.chemistry.mean())\n",
    "# df['physics'] = df['physics'].filling(0)\n",
    "df"
   ]
  },
  {
   "cell_type": "code",
   "execution_count": 21,
   "id": "ba643637a4c30e2f",
   "metadata": {
    "ExecuteTime": {
     "end_time": "2024-06-09T19:22:18.243948Z",
     "start_time": "2024-06-09T19:22:18.222656Z"
    }
   },
   "outputs": [
    {
     "data": {
      "text/html": [
       "<div>\n",
       "<style scoped>\n",
       "    .dataframe tbody tr th:only-of-type {\n",
       "        vertical-align: middle;\n",
       "    }\n",
       "\n",
       "    .dataframe tbody tr th {\n",
       "        vertical-align: top;\n",
       "    }\n",
       "\n",
       "    .dataframe thead th {\n",
       "        text-align: right;\n",
       "    }\n",
       "</style>\n",
       "<table border=\"1\" class=\"dataframe\">\n",
       "  <thead>\n",
       "    <tr style=\"text-align: right;\">\n",
       "      <th></th>\n",
       "      <th>student_ID</th>\n",
       "      <th>class</th>\n",
       "      <th>hours_spent_studying</th>\n",
       "      <th>physics</th>\n",
       "      <th>bio</th>\n",
       "      <th>maths</th>\n",
       "      <th>chemistry</th>\n",
       "    </tr>\n",
       "  </thead>\n",
       "  <tbody>\n",
       "  </tbody>\n",
       "</table>\n",
       "</div>"
      ],
      "text/plain": [
       "Empty DataFrame\n",
       "Columns: [student_ID, class, hours_spent_studying, physics, bio, maths, chemistry]\n",
       "Index: []"
      ]
     },
     "execution_count": 21,
     "metadata": {},
     "output_type": "execute_result"
    }
   ],
   "source": [
    "df[df.isnull().any(axis=1)]"
   ]
  },
  {
   "cell_type": "code",
   "execution_count": null,
   "id": "33b1a91025d936",
   "metadata": {
    "ExecuteTime": {
     "end_time": "2024-06-09T19:43:34.409925Z",
     "start_time": "2024-06-09T19:43:34.389278Z"
    }
   },
   "outputs": [],
   "source": [
    "# statistical Analysis\n",
    "import pandas as pd\n",
    "\n",
    "# load data from a CSV file\n",
    "df = pd.read_csv('data.csv')\n",
    "\n",
    "mean_study_hours = df[\"hours_spent_studying\"].mean()\n",
    "median_hours = df[\"hours_spent_studying\"].median()\n",
    "mode_hours = df[\"hours_spent_studying\"].mode()\n",
    "print(f\" study hrs mean {mean_study_hours} and median {median_hours} and mode {mode_hours} end here\")\n",
    "\n",
    "mean_physics = df['physics'].mean()\n",
    "print(f\"Phyc mean {mean_physics}\")\n",
    "mean_chemistry = df['chemistry'].mean()\n",
    "print(f\"Chem {mean_chemistry}\")\n",
    "mean_math = df['maths'].mean()\n",
    "print(f\"maths mean {mean_math}\")\n",
    "mean_bio = df['bio'].mean()\n",
    "print(f\"bio mean {mean_bio}\")\n"
   ]
  },
  {
   "cell_type": "code",
   "execution_count": null,
   "id": "3c2d9129b3b1a6a4",
   "metadata": {
    "ExecuteTime": {
     "end_time": "2024-06-09T19:44:27.174344Z",
     "start_time": "2024-06-09T19:44:27.162965Z"
    }
   },
   "outputs": [],
   "source": [
    "variance_physics = df[\"physics\"].var()\n",
    "print(f\"physics variance {variance_physics}\")\n",
    "std_dev_physics = df[\"physics\"].std()\n",
    "print(f\"physics std dev {std_dev_physics}\")"
   ]
  },
  {
   "cell_type": "markdown",
   "id": "4510b68c",
   "metadata": {},
   "source": [
    "Data Types"
   ]
  },
  {
   "cell_type": "code",
   "execution_count": 24,
   "id": "a3d8b99ba731c081",
   "metadata": {
    "ExecuteTime": {
     "end_time": "2024-06-09T19:46:52.276051Z",
     "start_time": "2024-06-09T19:46:52.264702Z"
    }
   },
   "outputs": [
    {
     "name": "stdout",
     "output_type": "stream",
     "text": [
      "student_ID                int64\n",
      "class                    object\n",
      "hours_spent_studying    float64\n",
      "physics                 float64\n",
      "bio                       int64\n",
      "maths                     int64\n",
      "chemistry               float64\n",
      "dtype: object\n"
     ]
    }
   ],
   "source": [
    "\n",
    "print(df.dtypes)"
   ]
  },
  {
   "cell_type": "code",
   "execution_count": 4,
   "id": "1c954c3f76183b12",
   "metadata": {
    "ExecuteTime": {
     "end_time": "2024-06-09T19:53:14.071690Z",
     "start_time": "2024-06-09T19:53:13.773472Z"
    }
   },
   "outputs": [
    {
     "data": {
      "image/png": "[encoded data removed]",
      "text/plain": [
       "<Figure size 640x480 with 1 Axes>"
      ]
     },
     "metadata": {},
     "output_type": "display_data"
    }
   ],
   "source": [
    "import pandas as pd\n",
    "import matplotlib.pyplot as plt\n",
    "df[\"hours_spent_studying\"].hist(bins=10)\n",
    "plt.xlabel(\"Hours Spent Studying\")\n",
    "plt.ylabel(\"Frequency\")\n",
    "plt.title(\"Distribution of Hours Spent Studying\")\n",
    "plt.show()\n"
   ]
  },
  {
   "cell_type": "code",
   "execution_count": 26,
   "id": "3b1a8dbf61c539e7",
   "metadata": {
    "ExecuteTime": {
     "end_time": "2024-06-09T20:09:06.553640Z",
     "start_time": "2024-06-09T20:09:06.249225Z"
    }
   },
   "outputs": [
    {
     "data": {
      "image/png": "[encoded data removed]",
      "text/plain": [
       "<Figure size 640x480 with 1 Axes>"
      ]
     },
     "metadata": {},
     "output_type": "display_data"
    }
   ],
   "source": [
    "# scatter plot for studying vs marks in physics\n",
    "import matplotlib.pyplot as plt\n",
    "plt.scatter(df[\"hours_spent_studying\"], df[\"physics\"])\n",
    "plt.xlabel(\"Hours Spent Studying\")\n",
    "plt.ylabel(\"Physics Marks\")\n",
    "plt.title(\"Hours Spent Studying vs. Physics Marks\")\n",
    "plt.show()\n"
   ]
  },
  {
   "cell_type": "code",
   "execution_count": 27,
   "id": "fc257c07d306367c",
   "metadata": {
    "ExecuteTime": {
     "end_time": "2024-06-09T20:07:44.985124Z",
     "start_time": "2024-06-09T20:07:44.703643Z"
    }
   },
   "outputs": [
    {
     "data": {
      "image/png": "[encoded data removed]",
      "text/plain": [
       "<Figure size 640x480 with 1 Axes>"
      ]
     },
     "metadata": {},
     "output_type": "display_data"
    },
    {
     "name": "stdout",
     "output_type": "stream",
     "text": [
      "       student_ID  hours_spent_studying    physics        bio      maths  \\\n",
      "class                                                                      \n",
      "A       14.500000              9.750000  69.166667  73.333333  71.500000   \n",
      "B       16.666667             15.083333  85.583333  88.333333  88.333333   \n",
      "\n",
      "       chemistry  \n",
      "class             \n",
      "A      70.083333  \n",
      "B      85.500000  \n"
     ]
    }
   ],
   "source": [
    "import matplotlib.pyplot as plt\n",
    "import pandas as pd\n",
    "\n",
    "# Load data from a CSV file\n",
    "df = pd.read_csv('data.csv')\n",
    "\n",
    "# Convert columns to numeric types where applicable\n",
    "df[\"hours_spent_studying\"] = pd.to_numeric(df[\"hours_spent_studying\"], errors='coerce')\n",
    "df[\"physics\"] = pd.to_numeric(df[\"physics\"], errors='coerce')\n",
    "df[\"bio\"] = pd.to_numeric(df[\"bio\"], errors='coerce')\n",
    "df[\"maths\"] = pd.to_numeric(df[\"maths\"], errors='coerce')\n",
    "df[\"chemistry\"] = pd.to_numeric(df[\"chemistry\"], errors='coerce')\n",
    "\n",
    "# Check for any remaining non-numeric values and handle them\n",
    "df.dropna(subset=[\"hours_spent_studying\", \"physics\", \"bio\", \"maths\", \"chemistry\"], inplace=True)\n",
    "\n",
    "# Calculate the mean for each class\n",
    "class_means = df.groupby(\"class\").mean()\n",
    "\n",
    "# Plot the means for each class\n",
    "class_means[[\"physics\", \"bio\", \"maths\", \"chemistry\"]].plot(kind='bar')\n",
    "plt.ylabel(\"Average Marks\")\n",
    "plt.title(\"Average Marks per Subject for Each Class\")\n",
    "plt.show()\n",
    "\n",
    "# Print the mean values for each class\n",
    "print(class_means)"
   ]
  }
 ],
 "metadata": {
  "kernelspec": {
   "display_name": "Python 3",
   "language": "python",
   "name": "python3"
  },
  "language_info": {
   "codemirror_mode": {
    "name": "ipython",
    "version": 3
   },
   "file_extension": ".py",
   "mimetype": "text/x-python",
   "name": "python",
   "nbconvert_exporter": "python",
   "pygments_lexer": "ipython3",
   "version": "3.12.3"
  }
 },
 "nbformat": 4,
 "nbformat_minor": 5
}
